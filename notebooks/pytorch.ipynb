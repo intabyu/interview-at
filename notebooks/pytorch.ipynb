{
 "cells": [
  {
   "cell_type": "code",
   "execution_count": 1,
   "metadata": {
    "pycharm": {
     "is_executing": true
    }
   },
   "outputs": [],
   "source": [
    "import os\n",
    "\n",
    "from glob import glob\n",
    "from pathlib import Path\n",
    "\n",
    "import pandas as pd\n",
    "import tqdm\n",
    "\n",
    "from sklearn import preprocessing\n",
    "\n",
    "import torch\n",
    "import torch.nn as nn\n",
    "import torch.nn.functional as F\n",
    "import torch.optim as optim"
   ]
  },
  {
   "cell_type": "markdown",
   "metadata": {},
   "source": [
    "## Data loading"
   ]
  },
  {
   "cell_type": "code",
   "execution_count": 2,
   "metadata": {
    "collapsed": false,
    "jupyter": {
     "outputs_hidden": false
    }
   },
   "outputs": [
    {
     "data": {
      "text/plain": [
       "PosixPath('../data')"
      ]
     },
     "execution_count": 2,
     "metadata": {},
     "output_type": "execute_result"
    }
   ],
   "source": [
    "data_dir = Path(\"..\") / \"data\"\n",
    "data_dir"
   ]
  },
  {
   "cell_type": "code",
   "execution_count": 3,
   "metadata": {
    "collapsed": false,
    "jupyter": {
     "outputs_hidden": false
    }
   },
   "outputs": [
    {
     "data": {
      "text/plain": [
       "['../data/BTCUSDT-1h-2023-05.csv',\n",
       " '../data/BTCUSDT-1h-2023-04.csv',\n",
       " '../data/BTCUSDT-1h-2023-03.csv',\n",
       " '../data/BTCUSDT-1h-2023-02.csv',\n",
       " '../data/BTCUSDT-1h-2023-01.csv']"
      ]
     },
     "execution_count": 3,
     "metadata": {},
     "output_type": "execute_result"
    }
   ],
   "source": [
    "data_paths = glob(str(data_dir) + os.sep + \"*.csv\")\n",
    "data_paths"
   ]
  },
  {
   "cell_type": "code",
   "execution_count": 4,
   "metadata": {
    "collapsed": false,
    "jupyter": {
     "outputs_hidden": false
    }
   },
   "outputs": [
    {
     "data": {
      "text/html": [
       "<div>\n",
       "<style scoped>\n",
       "    .dataframe tbody tr th:only-of-type {\n",
       "        vertical-align: middle;\n",
       "    }\n",
       "\n",
       "    .dataframe tbody tr th {\n",
       "        vertical-align: top;\n",
       "    }\n",
       "\n",
       "    .dataframe thead th {\n",
       "        text-align: right;\n",
       "    }\n",
       "</style>\n",
       "<table border=\"1\" class=\"dataframe\">\n",
       "  <thead>\n",
       "    <tr style=\"text-align: right;\">\n",
       "      <th></th>\n",
       "      <th>open_time</th>\n",
       "      <th>open</th>\n",
       "      <th>high</th>\n",
       "      <th>low</th>\n",
       "      <th>close</th>\n",
       "      <th>volume</th>\n",
       "      <th>close_time</th>\n",
       "      <th>quote_volume</th>\n",
       "      <th>count</th>\n",
       "      <th>taker_buy_volume</th>\n",
       "      <th>taker_buy_quote_volume</th>\n",
       "      <th>ignore</th>\n",
       "    </tr>\n",
       "  </thead>\n",
       "  <tbody>\n",
       "    <tr>\n",
       "      <th>0</th>\n",
       "      <td>1682899200000</td>\n",
       "      <td>29233.20</td>\n",
       "      <td>29337.34</td>\n",
       "      <td>29215.93</td>\n",
       "      <td>29315.57</td>\n",
       "      <td>1884.84043</td>\n",
       "      <td>1682902799999</td>\n",
       "      <td>5.520089e+07</td>\n",
       "      <td>43324</td>\n",
       "      <td>898.64952</td>\n",
       "      <td>2.631818e+07</td>\n",
       "      <td>0</td>\n",
       "    </tr>\n",
       "    <tr>\n",
       "      <th>1</th>\n",
       "      <td>1682902800000</td>\n",
       "      <td>29315.57</td>\n",
       "      <td>29315.57</td>\n",
       "      <td>28369.95</td>\n",
       "      <td>28504.36</td>\n",
       "      <td>7975.68782</td>\n",
       "      <td>1682906399999</td>\n",
       "      <td>2.293187e+08</td>\n",
       "      <td>138973</td>\n",
       "      <td>3628.42240</td>\n",
       "      <td>1.042351e+08</td>\n",
       "      <td>0</td>\n",
       "    </tr>\n",
       "    <tr>\n",
       "      <th>2</th>\n",
       "      <td>1682906400000</td>\n",
       "      <td>28504.36</td>\n",
       "      <td>28680.38</td>\n",
       "      <td>28414.00</td>\n",
       "      <td>28549.41</td>\n",
       "      <td>4047.55713</td>\n",
       "      <td>1682909999999</td>\n",
       "      <td>1.157070e+08</td>\n",
       "      <td>80081</td>\n",
       "      <td>1951.63029</td>\n",
       "      <td>5.578657e+07</td>\n",
       "      <td>0</td>\n",
       "    </tr>\n",
       "    <tr>\n",
       "      <th>3</th>\n",
       "      <td>1682910000000</td>\n",
       "      <td>28549.42</td>\n",
       "      <td>28592.95</td>\n",
       "      <td>28436.27</td>\n",
       "      <td>28561.06</td>\n",
       "      <td>2058.76530</td>\n",
       "      <td>1682913599999</td>\n",
       "      <td>5.874546e+07</td>\n",
       "      <td>39032</td>\n",
       "      <td>985.69333</td>\n",
       "      <td>2.812657e+07</td>\n",
       "      <td>0</td>\n",
       "    </tr>\n",
       "    <tr>\n",
       "      <th>4</th>\n",
       "      <td>1682913600000</td>\n",
       "      <td>28561.07</td>\n",
       "      <td>28589.84</td>\n",
       "      <td>28486.29</td>\n",
       "      <td>28555.00</td>\n",
       "      <td>1378.42285</td>\n",
       "      <td>1682917199999</td>\n",
       "      <td>3.933649e+07</td>\n",
       "      <td>27790</td>\n",
       "      <td>632.14694</td>\n",
       "      <td>1.803986e+07</td>\n",
       "      <td>0</td>\n",
       "    </tr>\n",
       "  </tbody>\n",
       "</table>\n",
       "</div>"
      ],
      "text/plain": [
       "       open_time      open      high       low     close      volume   \n",
       "0  1682899200000  29233.20  29337.34  29215.93  29315.57  1884.84043  \\\n",
       "1  1682902800000  29315.57  29315.57  28369.95  28504.36  7975.68782   \n",
       "2  1682906400000  28504.36  28680.38  28414.00  28549.41  4047.55713   \n",
       "3  1682910000000  28549.42  28592.95  28436.27  28561.06  2058.76530   \n",
       "4  1682913600000  28561.07  28589.84  28486.29  28555.00  1378.42285   \n",
       "\n",
       "      close_time  quote_volume   count  taker_buy_volume   \n",
       "0  1682902799999  5.520089e+07   43324         898.64952  \\\n",
       "1  1682906399999  2.293187e+08  138973        3628.42240   \n",
       "2  1682909999999  1.157070e+08   80081        1951.63029   \n",
       "3  1682913599999  5.874546e+07   39032         985.69333   \n",
       "4  1682917199999  3.933649e+07   27790         632.14694   \n",
       "\n",
       "   taker_buy_quote_volume  ignore  \n",
       "0            2.631818e+07       0  \n",
       "1            1.042351e+08       0  \n",
       "2            5.578657e+07       0  \n",
       "3            2.812657e+07       0  \n",
       "4            1.803986e+07       0  "
      ]
     },
     "execution_count": 4,
     "metadata": {},
     "output_type": "execute_result"
    }
   ],
   "source": [
    "dfs = []\n",
    "for path in data_paths:\n",
    "    dfs.append(pd.read_csv(path))\n",
    "\n",
    "df = pd.concat(dfs, ignore_index=True)\n",
    "df.head()"
   ]
  },
  {
   "cell_type": "code",
   "execution_count": 5,
   "metadata": {},
   "outputs": [
    {
     "data": {
      "text/html": [
       "<div>\n",
       "<style scoped>\n",
       "    .dataframe tbody tr th:only-of-type {\n",
       "        vertical-align: middle;\n",
       "    }\n",
       "\n",
       "    .dataframe tbody tr th {\n",
       "        vertical-align: top;\n",
       "    }\n",
       "\n",
       "    .dataframe thead th {\n",
       "        text-align: right;\n",
       "    }\n",
       "</style>\n",
       "<table border=\"1\" class=\"dataframe\">\n",
       "  <thead>\n",
       "    <tr style=\"text-align: right;\">\n",
       "      <th></th>\n",
       "      <th>open_time</th>\n",
       "      <th>open</th>\n",
       "      <th>high</th>\n",
       "      <th>low</th>\n",
       "      <th>close</th>\n",
       "      <th>volume</th>\n",
       "      <th>close_time</th>\n",
       "      <th>quote_volume</th>\n",
       "      <th>count</th>\n",
       "      <th>taker_buy_volume</th>\n",
       "      <th>taker_buy_quote_volume</th>\n",
       "      <th>ignore</th>\n",
       "    </tr>\n",
       "  </thead>\n",
       "  <tbody>\n",
       "    <tr>\n",
       "      <th>count</th>\n",
       "      <td>3.623000e+03</td>\n",
       "      <td>3623.000000</td>\n",
       "      <td>3623.000000</td>\n",
       "      <td>3623.000000</td>\n",
       "      <td>3623.000000</td>\n",
       "      <td>3623.000000</td>\n",
       "      <td>3.623000e+03</td>\n",
       "      <td>3.623000e+03</td>\n",
       "      <td>3.623000e+03</td>\n",
       "      <td>3623.000000</td>\n",
       "      <td>3.623000e+03</td>\n",
       "      <td>3623.0</td>\n",
       "    </tr>\n",
       "    <tr>\n",
       "      <th>mean</th>\n",
       "      <td>1.679052e+12</td>\n",
       "      <td>24952.512250</td>\n",
       "      <td>25037.069782</td>\n",
       "      <td>24866.591609</td>\n",
       "      <td>24955.465156</td>\n",
       "      <td>8022.262092</td>\n",
       "      <td>1.679056e+12</td>\n",
       "      <td>1.877299e+08</td>\n",
       "      <td>1.994754e+05</td>\n",
       "      <td>3998.883325</td>\n",
       "      <td>9.359411e+07</td>\n",
       "      <td>0.0</td>\n",
       "    </tr>\n",
       "    <tr>\n",
       "      <th>std</th>\n",
       "      <td>3.767197e+09</td>\n",
       "      <td>3631.356695</td>\n",
       "      <td>3643.949958</td>\n",
       "      <td>3616.074695</td>\n",
       "      <td>3628.861353</td>\n",
       "      <td>8658.526405</td>\n",
       "      <td>3.767197e+09</td>\n",
       "      <td>2.012761e+08</td>\n",
       "      <td>1.901867e+05</td>\n",
       "      <td>4342.665353</td>\n",
       "      <td>1.010701e+08</td>\n",
       "      <td>0.0</td>\n",
       "    </tr>\n",
       "    <tr>\n",
       "      <th>min</th>\n",
       "      <td>1.672531e+12</td>\n",
       "      <td>16513.330000</td>\n",
       "      <td>16534.030000</td>\n",
       "      <td>16499.010000</td>\n",
       "      <td>16513.340000</td>\n",
       "      <td>0.000000</td>\n",
       "      <td>1.672535e+12</td>\n",
       "      <td>0.000000e+00</td>\n",
       "      <td>0.000000e+00</td>\n",
       "      <td>0.000000</td>\n",
       "      <td>0.000000e+00</td>\n",
       "      <td>0.0</td>\n",
       "    </tr>\n",
       "    <tr>\n",
       "      <th>25%</th>\n",
       "      <td>1.675791e+12</td>\n",
       "      <td>22668.710000</td>\n",
       "      <td>22745.775000</td>\n",
       "      <td>22564.705000</td>\n",
       "      <td>22673.565000</td>\n",
       "      <td>1738.100850</td>\n",
       "      <td>1.675795e+12</td>\n",
       "      <td>4.860116e+07</td>\n",
       "      <td>3.908750e+04</td>\n",
       "      <td>858.773440</td>\n",
       "      <td>2.413729e+07</td>\n",
       "      <td>0.0</td>\n",
       "    </tr>\n",
       "    <tr>\n",
       "      <th>50%</th>\n",
       "      <td>1.679051e+12</td>\n",
       "      <td>26131.270000</td>\n",
       "      <td>26267.290000</td>\n",
       "      <td>25993.280000</td>\n",
       "      <td>26142.140000</td>\n",
       "      <td>5633.435750</td>\n",
       "      <td>1.679054e+12</td>\n",
       "      <td>1.265667e+08</td>\n",
       "      <td>1.558990e+05</td>\n",
       "      <td>2819.416980</td>\n",
       "      <td>6.278053e+07</td>\n",
       "      <td>0.0</td>\n",
       "    </tr>\n",
       "    <tr>\n",
       "      <th>75%</th>\n",
       "      <td>1.682314e+12</td>\n",
       "      <td>27914.255000</td>\n",
       "      <td>28013.285000</td>\n",
       "      <td>27841.235000</td>\n",
       "      <td>27914.255000</td>\n",
       "      <td>10896.039840</td>\n",
       "      <td>1.682318e+12</td>\n",
       "      <td>2.460295e+08</td>\n",
       "      <td>3.057140e+05</td>\n",
       "      <td>5421.462915</td>\n",
       "      <td>1.223110e+08</td>\n",
       "      <td>0.0</td>\n",
       "    </tr>\n",
       "    <tr>\n",
       "      <th>max</th>\n",
       "      <td>1.685574e+12</td>\n",
       "      <td>30942.860000</td>\n",
       "      <td>31000.000000</td>\n",
       "      <td>30758.890000</td>\n",
       "      <td>30942.870000</td>\n",
       "      <td>80041.752040</td>\n",
       "      <td>1.685578e+12</td>\n",
       "      <td>2.019041e+09</td>\n",
       "      <td>1.442097e+06</td>\n",
       "      <td>41799.705160</td>\n",
       "      <td>1.054693e+09</td>\n",
       "      <td>0.0</td>\n",
       "    </tr>\n",
       "  </tbody>\n",
       "</table>\n",
       "</div>"
      ],
      "text/plain": [
       "          open_time          open          high           low         close   \n",
       "count  3.623000e+03   3623.000000   3623.000000   3623.000000   3623.000000  \\\n",
       "mean   1.679052e+12  24952.512250  25037.069782  24866.591609  24955.465156   \n",
       "std    3.767197e+09   3631.356695   3643.949958   3616.074695   3628.861353   \n",
       "min    1.672531e+12  16513.330000  16534.030000  16499.010000  16513.340000   \n",
       "25%    1.675791e+12  22668.710000  22745.775000  22564.705000  22673.565000   \n",
       "50%    1.679051e+12  26131.270000  26267.290000  25993.280000  26142.140000   \n",
       "75%    1.682314e+12  27914.255000  28013.285000  27841.235000  27914.255000   \n",
       "max    1.685574e+12  30942.860000  31000.000000  30758.890000  30942.870000   \n",
       "\n",
       "             volume    close_time  quote_volume         count   \n",
       "count   3623.000000  3.623000e+03  3.623000e+03  3.623000e+03  \\\n",
       "mean    8022.262092  1.679056e+12  1.877299e+08  1.994754e+05   \n",
       "std     8658.526405  3.767197e+09  2.012761e+08  1.901867e+05   \n",
       "min        0.000000  1.672535e+12  0.000000e+00  0.000000e+00   \n",
       "25%     1738.100850  1.675795e+12  4.860116e+07  3.908750e+04   \n",
       "50%     5633.435750  1.679054e+12  1.265667e+08  1.558990e+05   \n",
       "75%    10896.039840  1.682318e+12  2.460295e+08  3.057140e+05   \n",
       "max    80041.752040  1.685578e+12  2.019041e+09  1.442097e+06   \n",
       "\n",
       "       taker_buy_volume  taker_buy_quote_volume  ignore  \n",
       "count       3623.000000            3.623000e+03  3623.0  \n",
       "mean        3998.883325            9.359411e+07     0.0  \n",
       "std         4342.665353            1.010701e+08     0.0  \n",
       "min            0.000000            0.000000e+00     0.0  \n",
       "25%          858.773440            2.413729e+07     0.0  \n",
       "50%         2819.416980            6.278053e+07     0.0  \n",
       "75%         5421.462915            1.223110e+08     0.0  \n",
       "max        41799.705160            1.054693e+09     0.0  "
      ]
     },
     "execution_count": 5,
     "metadata": {},
     "output_type": "execute_result"
    }
   ],
   "source": [
    "df.describe()"
   ]
  },
  {
   "cell_type": "markdown",
   "metadata": {},
   "source": [
    "## Data preparation"
   ]
  },
  {
   "cell_type": "code",
   "execution_count": 6,
   "metadata": {},
   "outputs": [
    {
     "data": {
      "text/html": [
       "<div>\n",
       "<style scoped>\n",
       "    .dataframe tbody tr th:only-of-type {\n",
       "        vertical-align: middle;\n",
       "    }\n",
       "\n",
       "    .dataframe tbody tr th {\n",
       "        vertical-align: top;\n",
       "    }\n",
       "\n",
       "    .dataframe thead th {\n",
       "        text-align: right;\n",
       "    }\n",
       "</style>\n",
       "<table border=\"1\" class=\"dataframe\">\n",
       "  <thead>\n",
       "    <tr style=\"text-align: right;\">\n",
       "      <th></th>\n",
       "      <th>open</th>\n",
       "      <th>high</th>\n",
       "      <th>low</th>\n",
       "      <th>close</th>\n",
       "      <th>volume</th>\n",
       "    </tr>\n",
       "  </thead>\n",
       "  <tbody>\n",
       "    <tr>\n",
       "      <th>0</th>\n",
       "      <td>0.881517</td>\n",
       "      <td>0.885064</td>\n",
       "      <td>0.891797</td>\n",
       "      <td>0.887224</td>\n",
       "      <td>0.023548</td>\n",
       "    </tr>\n",
       "    <tr>\n",
       "      <th>1</th>\n",
       "      <td>0.887225</td>\n",
       "      <td>0.883559</td>\n",
       "      <td>0.832471</td>\n",
       "      <td>0.831006</td>\n",
       "      <td>0.099644</td>\n",
       "    </tr>\n",
       "    <tr>\n",
       "      <th>2</th>\n",
       "      <td>0.831006</td>\n",
       "      <td>0.839650</td>\n",
       "      <td>0.835560</td>\n",
       "      <td>0.834128</td>\n",
       "      <td>0.050568</td>\n",
       "    </tr>\n",
       "    <tr>\n",
       "      <th>3</th>\n",
       "      <td>0.834129</td>\n",
       "      <td>0.833606</td>\n",
       "      <td>0.837122</td>\n",
       "      <td>0.834935</td>\n",
       "      <td>0.025721</td>\n",
       "    </tr>\n",
       "    <tr>\n",
       "      <th>4</th>\n",
       "      <td>0.834936</td>\n",
       "      <td>0.833391</td>\n",
       "      <td>0.840630</td>\n",
       "      <td>0.834515</td>\n",
       "      <td>0.017221</td>\n",
       "    </tr>\n",
       "  </tbody>\n",
       "</table>\n",
       "</div>"
      ],
      "text/plain": [
       "       open      high       low     close    volume\n",
       "0  0.881517  0.885064  0.891797  0.887224  0.023548\n",
       "1  0.887225  0.883559  0.832471  0.831006  0.099644\n",
       "2  0.831006  0.839650  0.835560  0.834128  0.050568\n",
       "3  0.834129  0.833606  0.837122  0.834935  0.025721\n",
       "4  0.834936  0.833391  0.840630  0.834515  0.017221"
      ]
     },
     "execution_count": 6,
     "metadata": {},
     "output_type": "execute_result"
    }
   ],
   "source": [
    "# standardization\n",
    "min_max_scaler = preprocessing.MinMaxScaler()\n",
    "x_scaled = min_max_scaler.fit_transform(df.values)\n",
    "df_ = pd.DataFrame(x_scaled, columns=df.columns)\n",
    "df_ = df_[[\"open\", \"high\", \"low\", \"close\", \"volume\"]]\n",
    "df_.head()"
   ]
  },
  {
   "cell_type": "code",
   "execution_count": 7,
   "metadata": {},
   "outputs": [
    {
     "data": {
      "text/html": [
       "<div>\n",
       "<style scoped>\n",
       "    .dataframe tbody tr th:only-of-type {\n",
       "        vertical-align: middle;\n",
       "    }\n",
       "\n",
       "    .dataframe tbody tr th {\n",
       "        vertical-align: top;\n",
       "    }\n",
       "\n",
       "    .dataframe thead th {\n",
       "        text-align: right;\n",
       "    }\n",
       "</style>\n",
       "<table border=\"1\" class=\"dataframe\">\n",
       "  <thead>\n",
       "    <tr style=\"text-align: right;\">\n",
       "      <th></th>\n",
       "      <th>w_open</th>\n",
       "      <th>w_high</th>\n",
       "      <th>w_low</th>\n",
       "      <th>w_close</th>\n",
       "      <th>w_volume</th>\n",
       "      <th>close</th>\n",
       "      <th>x</th>\n",
       "    </tr>\n",
       "  </thead>\n",
       "  <tbody>\n",
       "    <tr>\n",
       "      <th>3</th>\n",
       "      <td>[0.8815165843932549, 0.8872250170310465, 0.831...</td>\n",
       "      <td>[0.8850640503194738, 0.8835591391382671, 0.839...</td>\n",
       "      <td>[0.8917971259225186, 0.8324712409922106, 0.835...</td>\n",
       "      <td>[0.8872243240077811, 0.83100558368845, 0.83412...</td>\n",
       "      <td>[0.02354821554953059, 0.09964409344780753, 0.0...</td>\n",
       "      <td>0.834935</td>\n",
       "      <td>[0.8815165843932549, 0.8872250170310465, 0.831...</td>\n",
       "    </tr>\n",
       "    <tr>\n",
       "      <th>4</th>\n",
       "      <td>[0.8872250170310465, 0.8310062767117155, 0.834...</td>\n",
       "      <td>[0.8835591391382671, 0.8396498817569789, 0.833...</td>\n",
       "      <td>[0.8324712409922106, 0.835560327295882, 0.8371...</td>\n",
       "      <td>[0.83100558368845, 0.8341276534994557, 0.83493...</td>\n",
       "      <td>[0.09964409344780753, 0.050568072622614216, 0....</td>\n",
       "      <td>0.834515</td>\n",
       "      <td>[0.8872250170310465, 0.8310062767117155, 0.834...</td>\n",
       "    </tr>\n",
       "    <tr>\n",
       "      <th>5</th>\n",
       "      <td>[0.8310062767117155, 0.8341290395459864, 0.834...</td>\n",
       "      <td>[0.8396498817569789, 0.833606042318628, 0.8333...</td>\n",
       "      <td>[0.835560327295882, 0.8371220515179651, 0.8406...</td>\n",
       "      <td>[0.8341276534994557, 0.8349350256037447, 0.834...</td>\n",
       "      <td>[0.050568072622614216, 0.02572114237293499, 0....</td>\n",
       "      <td>0.829572</td>\n",
       "      <td>[0.8310062767117155, 0.8341290395459864, 0.834...</td>\n",
       "    </tr>\n",
       "    <tr>\n",
       "      <th>6</th>\n",
       "      <td>[0.8341290395459864, 0.8349364116502755, 0.834...</td>\n",
       "      <td>[0.833606042318628, 0.8333910550070269, 0.8365...</td>\n",
       "      <td>[0.8371220515179651, 0.8406297949211357, 0.824...</td>\n",
       "      <td>[0.8349350256037447, 0.8345150535048613, 0.829...</td>\n",
       "      <td>[0.02572114237293499, 0.01722129782105654, 0.0...</td>\n",
       "      <td>0.837241</td>\n",
       "      <td>[0.8341290395459864, 0.8349364116502755, 0.834...</td>\n",
       "    </tr>\n",
       "    <tr>\n",
       "      <th>7</th>\n",
       "      <td>[0.8349364116502755, 0.834516439551392, 0.8295...</td>\n",
       "      <td>[0.8333910550070269, 0.8365495020382319, 0.833...</td>\n",
       "      <td>[0.8406297949211357, 0.8240700482753014, 0.837...</td>\n",
       "      <td>[0.8345150535048613, 0.829572411575429, 0.8372...</td>\n",
       "      <td>[0.01722129782105654, 0.041021721992781104, 0....</td>\n",
       "      <td>0.839650</td>\n",
       "      <td>[0.8349364116502755, 0.834516439551392, 0.8295...</td>\n",
       "    </tr>\n",
       "  </tbody>\n",
       "</table>\n",
       "</div>"
      ],
      "text/plain": [
       "                                              w_open   \n",
       "3  [0.8815165843932549, 0.8872250170310465, 0.831...  \\\n",
       "4  [0.8872250170310465, 0.8310062767117155, 0.834...   \n",
       "5  [0.8310062767117155, 0.8341290395459864, 0.834...   \n",
       "6  [0.8341290395459864, 0.8349364116502755, 0.834...   \n",
       "7  [0.8349364116502755, 0.834516439551392, 0.8295...   \n",
       "\n",
       "                                              w_high   \n",
       "3  [0.8850640503194738, 0.8835591391382671, 0.839...  \\\n",
       "4  [0.8835591391382671, 0.8396498817569789, 0.833...   \n",
       "5  [0.8396498817569789, 0.833606042318628, 0.8333...   \n",
       "6  [0.833606042318628, 0.8333910550070269, 0.8365...   \n",
       "7  [0.8333910550070269, 0.8365495020382319, 0.833...   \n",
       "\n",
       "                                               w_low   \n",
       "3  [0.8917971259225186, 0.8324712409922106, 0.835...  \\\n",
       "4  [0.8324712409922106, 0.835560327295882, 0.8371...   \n",
       "5  [0.835560327295882, 0.8371220515179651, 0.8406...   \n",
       "6  [0.8371220515179651, 0.8406297949211357, 0.824...   \n",
       "7  [0.8406297949211357, 0.8240700482753014, 0.837...   \n",
       "\n",
       "                                             w_close   \n",
       "3  [0.8872243240077811, 0.83100558368845, 0.83412...  \\\n",
       "4  [0.83100558368845, 0.8341276534994557, 0.83493...   \n",
       "5  [0.8341276534994557, 0.8349350256037447, 0.834...   \n",
       "6  [0.8349350256037447, 0.8345150535048613, 0.829...   \n",
       "7  [0.8345150535048613, 0.829572411575429, 0.8372...   \n",
       "\n",
       "                                            w_volume     close   \n",
       "3  [0.02354821554953059, 0.09964409344780753, 0.0...  0.834935  \\\n",
       "4  [0.09964409344780753, 0.050568072622614216, 0....  0.834515   \n",
       "5  [0.050568072622614216, 0.02572114237293499, 0....  0.829572   \n",
       "6  [0.02572114237293499, 0.01722129782105654, 0.0...  0.837241   \n",
       "7  [0.01722129782105654, 0.041021721992781104, 0....  0.839650   \n",
       "\n",
       "                                                   x  \n",
       "3  [0.8815165843932549, 0.8872250170310465, 0.831...  \n",
       "4  [0.8872250170310465, 0.8310062767117155, 0.834...  \n",
       "5  [0.8310062767117155, 0.8341290395459864, 0.834...  \n",
       "6  [0.8341290395459864, 0.8349364116502755, 0.834...  \n",
       "7  [0.8349364116502755, 0.834516439551392, 0.8295...  "
      ]
     },
     "execution_count": 7,
     "metadata": {},
     "output_type": "execute_result"
    }
   ],
   "source": [
    "# history\n",
    "def mk_history(dataframe: pd.DataFrame, window_size: int = 3):\n",
    "    \n",
    "    def to_list_or_na(w, length: int):\n",
    "        res = w.to_list()\n",
    "        if len(res) != length:\n",
    "            return None\n",
    "        return res\n",
    "    \n",
    "    for col in dataframe.columns:\n",
    "        dataframe[f\"w_{col}\"] = [to_list_or_na(window, length=3) for window in dataframe[col].rolling(window=window_size, closed=\"left\")]\n",
    "        \n",
    "    dataframe = dataframe.dropna()\n",
    "    x_cols = [col for col in dataframe.columns if col.startswith(\"w_\")]\n",
    "    dataframe = dataframe[x_cols + [\"close\"]]\n",
    "    dataframe[\"x\"] = dataframe[x_cols].apply(lambda row: [item for sublist in row for item in sublist], axis=1)\n",
    "    return dataframe\n",
    "\n",
    "df_ = mk_history(df_)\n",
    "df_.head()"
   ]
  },
  {
   "cell_type": "code",
   "execution_count": 9,
   "metadata": {},
   "outputs": [
    {
     "data": {
      "text/plain": [
       "(3620, 7)"
      ]
     },
     "execution_count": 9,
     "metadata": {},
     "output_type": "execute_result"
    }
   ],
   "source": [
    "df_.shape"
   ]
  },
  {
   "cell_type": "code",
   "execution_count": 10,
   "metadata": {},
   "outputs": [],
   "source": [
    "train_pct = 0.65\n",
    "offset_pct = 0.05"
   ]
  },
  {
   "cell_type": "code",
   "execution_count": 11,
   "metadata": {},
   "outputs": [
    {
     "name": "stdout",
     "output_type": "stream",
     "text": [
      "train_start=0, train_end=2353\n"
     ]
    }
   ],
   "source": [
    "train_start = 0\n",
    "train_end = int(len(df_) * train_pct)\n",
    "\n",
    "print(f\"{train_start=}, {train_end=}\")"
   ]
  },
  {
   "cell_type": "code",
   "execution_count": 12,
   "metadata": {},
   "outputs": [
    {
     "name": "stdout",
     "output_type": "stream",
     "text": [
      "test_start=2534, test_end=3620\n"
     ]
    }
   ],
   "source": [
    "test_start = train_end + int(offset_pct * len(df_))\n",
    "test_end = len(df_)\n",
    "\n",
    "print(f\"{test_start=}, {test_end=}\")"
   ]
  },
  {
   "cell_type": "code",
   "execution_count": 24,
   "metadata": {},
   "outputs": [
    {
     "data": {
      "text/plain": [
       "array([list([0.8815165843932549, 0.8872250170310465, 0.8310062767117155, 0.8850640503194738, 0.8835591391382671, 0.8396498817569789, 0.8917971259225186, 0.8324712409922106, 0.835560327295882, 0.8872243240077811, 0.83100558368845, 0.8341276534994557, 0.02354821554953059, 0.09964409344780753, 0.050568072622614216]),\n",
       "       list([0.8872250170310465, 0.8310062767117155, 0.8341290395459864, 0.8835591391382671, 0.8396498817569789, 0.833606042318628, 0.8324712409922106, 0.835560327295882, 0.8371220515179651, 0.83100558368845, 0.8341276534994557, 0.8349350256037447, 0.09964409344780753, 0.050568072622614216, 0.02572114237293499]),\n",
       "       list([0.8310062767117155, 0.8341290395459864, 0.8349364116502755, 0.8396498817569789, 0.833606042318628, 0.8333910550070269, 0.835560327295882, 0.8371220515179651, 0.8406297949211357, 0.8341276534994557, 0.8349350256037447, 0.8345150535048613, 0.050568072622614216, 0.02572114237293499, 0.01722129782105654]),\n",
       "       ...,\n",
       "       list([0.4412201922030723, 0.4330834060430242, 0.43538424328443126, 0.43939742720329167, 0.434951821412598, 0.437595957962031, 0.43050783036042395, 0.43806609873294877, 0.441237233412904, 0.43308271301975876, 0.43534266188850235, 0.43908706659191243, 0.2525534689682687, 0.10996450984233101, 0.10023333379797415]),\n",
       "       list([0.4330834060430242, 0.43538424328443126, 0.4390877596151779, 0.434951821412598, 0.437595957962031, 0.4393469639436556, 0.43806609873294877, 0.441237233412904, 0.4422190088556146, 0.43534266188850235, 0.43908706659191243, 0.44148146197415983, 0.10996450984233101, 0.10023333379797415, 0.09762271703017059]),\n",
       "       list([0.43538424328443126, 0.4390877596151779, 0.44148215499742527, 0.437595957962031, 0.4393469639436556, 0.4399041336322418, 0.441237233412904, 0.4422190088556146, 0.4454181942625044, 0.43908706659191243, 0.44148146197415983, 0.44108505266630305, 0.10023333379797415, 0.09762271703017059, 0.11067813390157769])],\n",
       "      dtype=object)"
      ]
     },
     "execution_count": 24,
     "metadata": {},
     "output_type": "execute_result"
    }
   ],
   "source": [
    "# train, tests splits\n",
    "X_train = df_[train_start:train_end][\"x\"].values\n",
    "Y_train = df_[train_start:train_end][\"close\"].values\n",
    "\n",
    "X_train"
   ]
  },
  {
   "cell_type": "code",
   "execution_count": 23,
   "metadata": {},
   "outputs": [
    {
     "data": {
      "text/plain": [
       "(2353,)"
      ]
     },
     "execution_count": 23,
     "metadata": {},
     "output_type": "execute_result"
    }
   ],
   "source": [
    "X_train.shape"
   ]
  },
  {
   "cell_type": "code",
   "execution_count": 26,
   "metadata": {},
   "outputs": [
    {
     "data": {
      "text/plain": [
       "array([0.83493503, 0.83451505, 0.82957241, ..., 0.44148146, 0.44108505,\n",
       "       0.44055558])"
      ]
     },
     "execution_count": 26,
     "metadata": {},
     "output_type": "execute_result"
    }
   ],
   "source": [
    "Y_train"
   ]
  },
  {
   "cell_type": "code",
   "execution_count": 27,
   "metadata": {},
   "outputs": [
    {
     "data": {
      "text/plain": [
       "(2353,)"
      ]
     },
     "execution_count": 27,
     "metadata": {},
     "output_type": "execute_result"
    }
   ],
   "source": [
    "Y_train.shape"
   ]
  },
  {
   "cell_type": "code",
   "execution_count": 17,
   "metadata": {},
   "outputs": [
    {
     "ename": "NameError",
     "evalue": "name 'train_test_split' is not defined",
     "output_type": "error",
     "traceback": [
      "\u001b[0;31m---------------------------------------------------------------------------\u001b[0m",
      "\u001b[0;31mNameError\u001b[0m                                 Traceback (most recent call last)",
      "Cell \u001b[0;32mIn[17], line 5\u001b[0m\n\u001b[1;32m      1\u001b[0m \u001b[38;5;66;03m# train, tests splits\u001b[39;00m\n\u001b[0;32m----> 5\u001b[0m X_train, X_test, y_train, y_test \u001b[38;5;241m=\u001b[39m \u001b[43mtrain_test_split\u001b[49m(X, y, train_size\u001b[38;5;241m=\u001b[39m\u001b[38;5;241m0.7\u001b[39m, shuffle\u001b[38;5;241m=\u001b[39m\u001b[38;5;28;01mTrue\u001b[39;00m)\n\u001b[1;32m      6\u001b[0m X_train \u001b[38;5;241m=\u001b[39m torch\u001b[38;5;241m.\u001b[39mtensor(X_train, dtype\u001b[38;5;241m=\u001b[39mtorch\u001b[38;5;241m.\u001b[39mfloat32)\n\u001b[1;32m      7\u001b[0m y_train \u001b[38;5;241m=\u001b[39m torch\u001b[38;5;241m.\u001b[39mtensor(y_train, dtype\u001b[38;5;241m=\u001b[39mtorch\u001b[38;5;241m.\u001b[39mfloat32)\u001b[38;5;241m.\u001b[39mreshape(\u001b[38;5;241m-\u001b[39m\u001b[38;5;241m1\u001b[39m, \u001b[38;5;241m1\u001b[39m)\n",
      "\u001b[0;31mNameError\u001b[0m: name 'train_test_split' is not defined"
     ]
    }
   ],
   "source": [
    "# train, tests splits\n",
    "\n",
    "\n",
    "\n",
    "X_train, X_test, y_train, y_test = train_test_split(X, y, train_size=0.7, shuffle=True)\n",
    "X_train = torch.tensor(X_train, dtype=torch.float32)\n",
    "y_train = torch.tensor(y_train, dtype=torch.float32).reshape(-1, 1)\n",
    "X_test = torch.tensor(X_test, dtype=torch.float32)\n",
    "y_test = torch.tensor(y_test, dtype=torch.float32).reshape(-1, 1)"
   ]
  },
  {
   "cell_type": "code",
   "execution_count": null,
   "metadata": {},
   "outputs": [],
   "source": []
  },
  {
   "cell_type": "code",
   "execution_count": null,
   "metadata": {},
   "outputs": [],
   "source": []
  },
  {
   "cell_type": "markdown",
   "metadata": {},
   "source": [
    "## Model"
   ]
  },
  {
   "cell_type": "code",
   "execution_count": null,
   "metadata": {},
   "outputs": [],
   "source": [
    "class Net(nn.Module):\n",
    "    def __init__(self, window_size: int = 3, input_size: int = 5):\n",
    "        super(Net, self).__init__()\n",
    "        \n",
    "        self._model = nn.Sequential(\n",
    "            nn.Flatten(), \n",
    "            nn.Linear(window_size * input_size, 10),\n",
    "            nn.ReLU(),\n",
    "            nn.Linear(10, 10),\n",
    "            nn.ReLU(),\n",
    "            nn.Linear(10, 1), # predicts the next closing value\n",
    "        )\n",
    "\n",
    "    # x represents our data\n",
    "    def forward(self, x):\n",
    "        return self._model(x)"
   ]
  },
  {
   "cell_type": "code",
   "execution_count": null,
   "metadata": {},
   "outputs": [],
   "source": [
    "model = Net()\n",
    "loss_fn = nn.MSELoss()  # mean square error\n",
    "optimizer = optim.Adam(model.parameters(), lr=0.0001)"
   ]
  },
  {
   "cell_type": "code",
   "execution_count": null,
   "metadata": {},
   "outputs": [],
   "source": []
  },
  {
   "cell_type": "code",
   "execution_count": null,
   "metadata": {},
   "outputs": [],
   "source": [
    "# training parameters\n",
    "n_epochs = 10  # number of epochs to run\n",
    "batch_size = 10  # size of each batch\n",
    "batch_start = torch.arange(0, len(X_train), batch_size)\n",
    "\n",
    "# Hold the best model\n",
    "best_mse = np.inf  # init to infinity\n",
    "best_weights = None\n",
    "history = []\n",
    "\n",
    "# training loop\n",
    "for epoch in range(n_epochs):\n",
    "    model.train()\n",
    "    with tqdm.tqdm(batch_start, unit=\"batch\", mininterval=0, disable=True) as bar:\n",
    "        bar.set_description(f\"Epoch {epoch}\")\n",
    "        for start in bar:\n",
    "            # take a batch\n",
    "            X_batch = X_train[start : start + batch_size]\n",
    "            y_batch = y_train[start : start + batch_size]\n",
    "            # forward pass\n",
    "            y_pred = model(X_batch)\n",
    "            loss = loss_fn(y_pred, y_batch)\n",
    "            # backward pass\n",
    "            optimizer.zero_grad()\n",
    "            loss.backward()\n",
    "            # update weights\n",
    "            optimizer.step()\n",
    "            # print progress\n",
    "            bar.set_postfix(mse=float(loss))\n",
    "    # evaluate accuracy at end of each epoch\n",
    "    model.eval()\n",
    "    y_pred = model(X_test)\n",
    "    mse = loss_fn(y_pred, y_test)\n",
    "    mse = float(mse)\n",
    "    history.append(mse)\n",
    "    if mse < best_mse:\n",
    "        best_mse = mse\n",
    "        best_weights = copy.deepcopy(model.state_dict())\n",
    "\n",
    "# restore model and return best accuracy\n",
    "model.load_state_dict(best_weights)"
   ]
  },
  {
   "cell_type": "code",
   "execution_count": null,
   "metadata": {},
   "outputs": [],
   "source": []
  }
 ],
 "metadata": {
  "kernelspec": {
   "display_name": "Python 3 (ipykernel)",
   "language": "python",
   "name": "python3"
  },
  "language_info": {
   "codemirror_mode": {
    "name": "ipython",
    "version": 3
   },
   "file_extension": ".py",
   "mimetype": "text/x-python",
   "name": "python",
   "nbconvert_exporter": "python",
   "pygments_lexer": "ipython3",
   "version": "3.11.3"
  }
 },
 "nbformat": 4,
 "nbformat_minor": 4
}
