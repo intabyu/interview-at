{
 "cells": [
  {
   "cell_type": "code",
   "execution_count": 27,
   "metadata": {},
   "outputs": [],
   "source": [
    "import typing as t\n",
    "from scipy.spatial.distance import cdist\n",
    "import numpy as np\n",
    "import numpy.ma as ma\n",
    "import pandas as pd\n"
   ]
  },
  {
   "cell_type": "code",
   "execution_count": 3,
   "metadata": {
    "collapsed": false,
    "jupyter": {
     "outputs_hidden": false
    }
   },
   "outputs": [],
   "source": [
    "def generate_dataset(\n",
    "        size: int = 20,\n",
    "        dim: int = 2,\n",
    "        min: int = -10,\n",
    "        max: int = 10,\n",
    "        seed: int = 0,\n",
    ") -> np.ndarray:\n",
    "    return (max - min) * np.random.default_rng(seed).random((size, dim)) + min"
   ]
  },
  {
   "cell_type": "code",
   "execution_count": 54,
   "metadata": {
    "collapsed": false,
    "jupyter": {
     "outputs_hidden": false
    }
   },
   "outputs": [],
   "source": [
    "class KMeans:\n",
    "    def __init__(self, n_clusters: int = 8, max_iter: int = 300):\n",
    "        self.n_clusters = n_clusters\n",
    "        self.max_iter = max_iter\n",
    "        \n",
    "        self.history = []\n",
    "        self.centroids = None\n",
    "        self.labels = None\n",
    "    \n",
    "    def fit(self, X: Array):\n",
    "        data = X\n",
    "        self.centroids = self._initialize_clusters(data=data, n_clusters=self.n_clusters)\n",
    "        self.history = [centroids]\n",
    "        \n",
    "        for _ in range(self.max_iter):\n",
    "            self.labels = self._assign_points(data=data, centroids=centroids)\n",
    "            self.centroids = KMeans._update_centroids(data=data, assignations=assignations, n_clusters=2)\n",
    "            self.history.append(self.centroids)\n",
    "        return self\n",
    "\n",
    "    @staticmethod\n",
    "    def _initialize_clusters(data: np.ndarray, n_clusters: int, seed: int = 0) -> np.ndarray:\n",
    "        if len(data.shape) != 2:\n",
    "            raise ValueError(f\"Expected data of shape 2, shape={data.shape}\")\n",
    "\n",
    "        min = data.min()\n",
    "        max = data.max()\n",
    "        dim = data.shape[1]\n",
    "        return (max - min) * np.random.default_rng(seed).random((n_clusters, dim)) + min\n",
    "\n",
    "    @staticmethod\n",
    "    def _assign_points(data: np.ndarray, centroids: np.ndarray) -> np.ndarray:\n",
    "        # e.g. [ [0.71, 12.6] , [12.3, 0.40] ... ]\n",
    "        distances = cdist(data, centroids)\n",
    "        # e.g. array([0, 1, ... ])\n",
    "        return np.argmin(distances, axis=1)\n",
    "\n",
    "    @staticmethod\n",
    "    def _update_centroids(data: np.ndarray, assignations: np.ndarray, n_clusters: int) -> np.ndarray:\n",
    "        new_centroids = []\n",
    "        for i in range(n_clusters):\n",
    "            mask = assignations == i\n",
    "            data_in_cluster = data[mask]\n",
    "            # WARNING: if no points are within the cluster, we should probably reset it?\n",
    "            new_centroid = data_in_cluster.mean(axis=0)\n",
    "            new_centroids.append(new_centroid)\n",
    "        return np.array(new_centroids)"
   ]
  },
  {
   "cell_type": "code",
   "execution_count": 55,
   "metadata": {
    "collapsed": false,
    "jupyter": {
     "outputs_hidden": false
    }
   },
   "outputs": [
    {
     "name": "stdout",
     "output_type": "stream",
     "text": [
      "(5, 2)\n"
     ]
    },
    {
     "data": {
      "text/plain": [
       "array([[ 2.73923375, -4.60426572],\n",
       "       [-9.18052952, -9.66944729],\n",
       "       [ 6.26540478,  8.25511155],\n",
       "       [ 2.13271552,  4.58993122],\n",
       "       [ 0.87249983,  8.70144848]])"
      ]
     },
     "execution_count": 55,
     "metadata": {},
     "output_type": "execute_result"
    }
   ],
   "source": [
    "data = generate_dataset(size=5)\n",
    "print(data.shape)\n",
    "data"
   ]
  },
  {
   "cell_type": "code",
   "execution_count": 56,
   "metadata": {},
   "outputs": [],
   "source": [
    "kmeans = KMeans(n_clusters=3, max_iter=5)"
   ]
  },
  {
   "cell_type": "code",
   "execution_count": 57,
   "metadata": {},
   "outputs": [
    {
     "data": {
      "text/plain": [
       "<__main__.KMeans at 0x140a70490>"
      ]
     },
     "execution_count": 57,
     "metadata": {},
     "output_type": "execute_result"
    }
   ],
   "source": [
    "kmeans.fit(X=data)"
   ]
  },
  {
   "cell_type": "code",
   "execution_count": 58,
   "metadata": {},
   "outputs": [
    {
     "data": {
      "text/plain": [
       "[array([[ 2.03210947, -4.71322369],\n",
       "        [-8.91672695, -9.36581982]]),\n",
       " array([[ 3.00246347,  4.23555638],\n",
       "        [-9.18052952, -9.66944729]]),\n",
       " array([[ 3.00246347,  4.23555638],\n",
       "        [-9.18052952, -9.66944729]]),\n",
       " array([[ 3.00246347,  4.23555638],\n",
       "        [-9.18052952, -9.66944729]]),\n",
       " array([[ 3.00246347,  4.23555638],\n",
       "        [-9.18052952, -9.66944729]]),\n",
       " array([[ 3.00246347,  4.23555638],\n",
       "        [-9.18052952, -9.66944729]])]"
      ]
     },
     "execution_count": 58,
     "metadata": {},
     "output_type": "execute_result"
    }
   ],
   "source": [
    "kmeans.history"
   ]
  },
  {
   "cell_type": "code",
   "execution_count": 59,
   "metadata": {},
   "outputs": [
    {
     "data": {
      "text/plain": [
       "array([0, 1, 0, 0, 0])"
      ]
     },
     "execution_count": 59,
     "metadata": {},
     "output_type": "execute_result"
    }
   ],
   "source": [
    "kmeans.labels"
   ]
  },
  {
   "cell_type": "code",
   "execution_count": null,
   "metadata": {},
   "outputs": [],
   "source": []
  },
  {
   "cell_type": "code",
   "execution_count": null,
   "metadata": {},
   "outputs": [],
   "source": []
  },
  {
   "cell_type": "code",
   "execution_count": null,
   "metadata": {},
   "outputs": [],
   "source": []
  },
  {
   "cell_type": "code",
   "execution_count": null,
   "metadata": {},
   "outputs": [],
   "source": []
  },
  {
   "cell_type": "code",
   "execution_count": 51,
   "metadata": {
    "collapsed": false,
    "jupyter": {
     "outputs_hidden": false
    }
   },
   "outputs": [
    {
     "name": "stdout",
     "output_type": "stream",
     "text": [
      "(2, 2)\n"
     ]
    },
    {
     "data": {
      "text/plain": [
       "array([[ 2.03210947, -4.71322369],\n",
       "       [-8.91672695, -9.36581982]])"
      ]
     },
     "execution_count": 51,
     "metadata": {},
     "output_type": "execute_result"
    }
   ],
   "source": [
    "centroids = KMeans._initialize_clusters(data=data, n_clusters=2)\n",
    "print(centroids.shape)\n",
    "centroids"
   ]
  },
  {
   "cell_type": "code",
   "execution_count": 52,
   "metadata": {},
   "outputs": [
    {
     "name": "stdout",
     "output_type": "stream",
     "text": [
      "(5,)\n"
     ]
    },
    {
     "data": {
      "text/plain": [
       "array([0, 1, 0, 0, 0])"
      ]
     },
     "execution_count": 52,
     "metadata": {},
     "output_type": "execute_result"
    }
   ],
   "source": [
    "assignations = KMeans._assign_points(data=data, centroids=centroids)\n",
    "print(assignations.shape)\n",
    "assignations"
   ]
  },
  {
   "cell_type": "code",
   "execution_count": 53,
   "metadata": {},
   "outputs": [
    {
     "name": "stdout",
     "output_type": "stream",
     "text": [
      "(2, 2)\n"
     ]
    },
    {
     "data": {
      "text/plain": [
       "array([[ 3.00246347,  4.23555638],\n",
       "       [-9.18052952, -9.66944729]])"
      ]
     },
     "execution_count": 53,
     "metadata": {},
     "output_type": "execute_result"
    }
   ],
   "source": [
    "new_centroids = KMeans._update_centroids(data=data, assignations=assignations, n_clusters=2)\n",
    "print(new_centroids.shape)\n",
    "new_centroids"
   ]
  },
  {
   "cell_type": "code",
   "execution_count": null,
   "metadata": {},
   "outputs": [],
   "source": []
  },
  {
   "cell_type": "code",
   "execution_count": null,
   "metadata": {},
   "outputs": [],
   "source": []
  },
  {
   "cell_type": "code",
   "execution_count": null,
   "metadata": {},
   "outputs": [],
   "source": []
  },
  {
   "cell_type": "code",
   "execution_count": 47,
   "metadata": {},
   "outputs": [],
   "source": [
    "def update_centroids(data: np.ndarray, assignations: np.ndarray, n_clusters: int) -> np.ndarray:\n",
    "    new_centroids = []\n",
    "    for i in range(n_clusters):\n",
    "        mask = assignations == i\n",
    "        data_in_cluster = data[mask]\n",
    "        new_centroid = data_in_cluster.mean(axis=0)\n",
    "        new_centroids.append(new_centroid)\n",
    "    return np.array(new_centroids)"
   ]
  },
  {
   "cell_type": "code",
   "execution_count": 48,
   "metadata": {},
   "outputs": [
    {
     "name": "stdout",
     "output_type": "stream",
     "text": [
      "(2, 2)\n"
     ]
    },
    {
     "data": {
      "text/plain": [
       "array([[ 3.00246347,  4.23555638],\n",
       "       [-9.18052952, -9.66944729]])"
      ]
     },
     "execution_count": 48,
     "metadata": {},
     "output_type": "execute_result"
    }
   ],
   "source": [
    "new_centroids = update_centroids(data=data, assignations=assignations, n_clusters=2)\n",
    "print(new_centroids.shape)\n",
    "new_centroids"
   ]
  },
  {
   "cell_type": "code",
   "execution_count": null,
   "metadata": {},
   "outputs": [],
   "source": []
  },
  {
   "cell_type": "code",
   "execution_count": null,
   "metadata": {},
   "outputs": [],
   "source": []
  },
  {
   "cell_type": "code",
   "execution_count": null,
   "metadata": {},
   "outputs": [],
   "source": []
  },
  {
   "cell_type": "code",
   "execution_count": null,
   "metadata": {},
   "outputs": [],
   "source": []
  },
  {
   "cell_type": "code",
   "execution_count": null,
   "metadata": {},
   "outputs": [],
   "source": []
  },
  {
   "cell_type": "code",
   "execution_count": null,
   "metadata": {},
   "outputs": [],
   "source": []
  },
  {
   "cell_type": "code",
   "execution_count": 35,
   "metadata": {},
   "outputs": [
    {
     "data": {
      "text/plain": [
       "array([False,  True, False, False, False])"
      ]
     },
     "execution_count": 35,
     "metadata": {},
     "output_type": "execute_result"
    }
   ],
   "source": [
    "assignations == 1"
   ]
  },
  {
   "cell_type": "code",
   "execution_count": 43,
   "metadata": {},
   "outputs": [
    {
     "data": {
      "text/plain": [
       "array([[-9.18052952, -9.66944729]])"
      ]
     },
     "execution_count": 43,
     "metadata": {},
     "output_type": "execute_result"
    }
   ],
   "source": [
    "data[assignations == 1]"
   ]
  },
  {
   "cell_type": "code",
   "execution_count": 46,
   "metadata": {},
   "outputs": [
    {
     "data": {
      "text/plain": [
       "array([-9.18052952, -9.66944729])"
      ]
     },
     "execution_count": 46,
     "metadata": {},
     "output_type": "execute_result"
    }
   ],
   "source": [
    "data[assignations == 1].mean(axis=0)"
   ]
  },
  {
   "cell_type": "code",
   "execution_count": null,
   "metadata": {
    "collapsed": false,
    "jupyter": {
     "outputs_hidden": false
    }
   },
   "outputs": [],
   "source": [
    "def assign_points(data: np.ndarray, centroids: np.ndarray) -> np.numpy:\n",
    "    # e.g. [ [0.71, 12.6] , [12.3, 0.40] ... ]\n",
    "    distances = cdist(data, centroids)\n",
    "    # e.g. array([0, 1, ... ])\n",
    "    return np.argmin(distances, axis=1)"
   ]
  },
  {
   "cell_type": "code",
   "execution_count": null,
   "metadata": {},
   "outputs": [],
   "source": []
  },
  {
   "cell_type": "code",
   "execution_count": null,
   "metadata": {},
   "outputs": [],
   "source": []
  },
  {
   "cell_type": "code",
   "execution_count": null,
   "metadata": {},
   "outputs": [],
   "source": []
  },
  {
   "cell_type": "code",
   "execution_count": null,
   "metadata": {},
   "outputs": [],
   "source": []
  },
  {
   "cell_type": "code",
   "execution_count": null,
   "metadata": {},
   "outputs": [],
   "source": []
  },
  {
   "cell_type": "code",
   "execution_count": null,
   "metadata": {
    "collapsed": false,
    "jupyter": {
     "outputs_hidden": false
    }
   },
   "outputs": [],
   "source": [
    "distances = assign_points(data=dataset, centroids=centroids)\n",
    "distances\n"
   ]
  },
  {
   "cell_type": "code",
   "execution_count": null,
   "metadata": {
    "collapsed": false,
    "jupyter": {
     "outputs_hidden": false
    }
   },
   "outputs": [],
   "source": [
    "distances.shape"
   ]
  },
  {
   "cell_type": "code",
   "execution_count": null,
   "metadata": {},
   "outputs": [],
   "source": [
    "distances[0]"
   ]
  },
  {
   "cell_type": "code",
   "execution_count": null,
   "metadata": {},
   "outputs": [],
   "source": []
  },
  {
   "cell_type": "code",
   "execution_count": null,
   "metadata": {},
   "outputs": [],
   "source": []
  }
 ],
 "metadata": {
  "kernelspec": {
   "display_name": "Python 3 (ipykernel)",
   "language": "python",
   "name": "python3"
  },
  "language_info": {
   "codemirror_mode": {
    "name": "ipython",
    "version": 3
   },
   "file_extension": ".py",
   "mimetype": "text/x-python",
   "name": "python",
   "nbconvert_exporter": "python",
   "pygments_lexer": "ipython3",
   "version": "3.11.3"
  }
 },
 "nbformat": 4,
 "nbformat_minor": 4
}
